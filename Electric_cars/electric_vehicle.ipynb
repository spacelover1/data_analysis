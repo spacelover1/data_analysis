{
 "cells": [
  {
   "cell_type": "code",
   "execution_count": null,
   "id": "5e4fa358-25ef-49ce-8a4b-f3dd8fc7cdbe",
   "metadata": {},
   "outputs": [],
   "source": [
    "!pip3 install pandas matplotlib seaborn plotly\n",
    "!pip3 install geopandas folium\n"
   ]
  },
  {
   "cell_type": "code",
   "execution_count": 2,
   "id": "937c93e5-0374-4b5c-b5b7-189fda542de9",
   "metadata": {},
   "outputs": [
    {
     "data": {
      "text/html": [
       "<div>\n",
       "<style scoped>\n",
       "    .dataframe tbody tr th:only-of-type {\n",
       "        vertical-align: middle;\n",
       "    }\n",
       "\n",
       "    .dataframe tbody tr th {\n",
       "        vertical-align: top;\n",
       "    }\n",
       "\n",
       "    .dataframe thead th {\n",
       "        text-align: right;\n",
       "    }\n",
       "</style>\n",
       "<table border=\"1\" class=\"dataframe\">\n",
       "  <thead>\n",
       "    <tr style=\"text-align: right;\">\n",
       "      <th></th>\n",
       "      <th>DATE</th>\n",
       "      <th>NUMBER OF ELECTRIC VEHICLES</th>\n",
       "      <th>VEHICLE MODEL YEAR</th>\n",
       "      <th>VEHICLE MAKE</th>\n",
       "      <th>LOCATION</th>\n",
       "      <th>VEHICLE MODEL</th>\n",
       "    </tr>\n",
       "  </thead>\n",
       "  <tbody>\n",
       "    <tr>\n",
       "      <th>0</th>\n",
       "      <td>2021/10/01</td>\n",
       "      <td>1</td>\n",
       "      <td>2006</td>\n",
       "      <td>TOYOTA</td>\n",
       "      <td>HALIFAX COUNTY</td>\n",
       "      <td>NaN</td>\n",
       "    </tr>\n",
       "    <tr>\n",
       "      <th>1</th>\n",
       "      <td>2021/10/01</td>\n",
       "      <td>1</td>\n",
       "      <td>2008</td>\n",
       "      <td>TOYOTA</td>\n",
       "      <td>HALIFAX COUNTY</td>\n",
       "      <td>NaN</td>\n",
       "    </tr>\n",
       "    <tr>\n",
       "      <th>2</th>\n",
       "      <td>2021/10/01</td>\n",
       "      <td>1</td>\n",
       "      <td>2009</td>\n",
       "      <td>NISSAN</td>\n",
       "      <td>VICTORIA COUNTY</td>\n",
       "      <td>NaN</td>\n",
       "    </tr>\n",
       "    <tr>\n",
       "      <th>3</th>\n",
       "      <td>2021/10/01</td>\n",
       "      <td>1</td>\n",
       "      <td>2009</td>\n",
       "      <td>TOYOTA</td>\n",
       "      <td>HALIFAX COUNTY</td>\n",
       "      <td>NaN</td>\n",
       "    </tr>\n",
       "    <tr>\n",
       "      <th>4</th>\n",
       "      <td>2021/10/01</td>\n",
       "      <td>1</td>\n",
       "      <td>2011</td>\n",
       "      <td>HYUNDAI</td>\n",
       "      <td>HALIFAX COUNTY</td>\n",
       "      <td>NaN</td>\n",
       "    </tr>\n",
       "  </tbody>\n",
       "</table>\n",
       "</div>"
      ],
      "text/plain": [
       "         DATE  NUMBER OF ELECTRIC VEHICLES  VEHICLE MODEL YEAR VEHICLE MAKE  \\\n",
       "0  2021/10/01                            1                2006       TOYOTA   \n",
       "1  2021/10/01                            1                2008       TOYOTA   \n",
       "2  2021/10/01                            1                2009       NISSAN   \n",
       "3  2021/10/01                            1                2009       TOYOTA   \n",
       "4  2021/10/01                            1                2011      HYUNDAI   \n",
       "\n",
       "          LOCATION VEHICLE MODEL  \n",
       "0   HALIFAX COUNTY           NaN  \n",
       "1   HALIFAX COUNTY           NaN  \n",
       "2  VICTORIA COUNTY           NaN  \n",
       "3   HALIFAX COUNTY           NaN  \n",
       "4   HALIFAX COUNTY           NaN  "
      ]
     },
     "execution_count": 2,
     "metadata": {},
     "output_type": "execute_result"
    }
   ],
   "source": [
    "import pandas as pd\n",
    "\n",
    "df = pd.read_csv(\"Electric_Vehicle_Registration_Data.csv\")\n",
    "df.head()"
   ]
  },
  {
   "cell_type": "code",
   "execution_count": 3,
   "id": "b694acf4-6ba0-4c01-9b7b-b362eae5a739",
   "metadata": {},
   "outputs": [
    {
     "name": "stdout",
     "output_type": "stream",
     "text": [
      "<class 'pandas.core.frame.DataFrame'>\n",
      "RangeIndex: 20177 entries, 0 to 20176\n",
      "Data columns (total 6 columns):\n",
      " #   Column                       Non-Null Count  Dtype \n",
      "---  ------                       --------------  ----- \n",
      " 0   DATE                         20177 non-null  object\n",
      " 1   NUMBER OF ELECTRIC VEHICLES  20177 non-null  int64 \n",
      " 2   VEHICLE MODEL YEAR           20177 non-null  int64 \n",
      " 3   VEHICLE MAKE                 20177 non-null  object\n",
      " 4   LOCATION                     20177 non-null  object\n",
      " 5   VEHICLE MODEL                18208 non-null  object\n",
      "dtypes: int64(2), object(4)\n",
      "memory usage: 945.9+ KB\n"
     ]
    }
   ],
   "source": [
    "# check column names and data type\n",
    "df.info()"
   ]
  },
  {
   "cell_type": "code",
   "execution_count": 4,
   "id": "65155d8d-d834-45c9-ad8d-61e2feea8fd0",
   "metadata": {},
   "outputs": [
    {
     "data": {
      "text/html": [
       "<div>\n",
       "<style scoped>\n",
       "    .dataframe tbody tr th:only-of-type {\n",
       "        vertical-align: middle;\n",
       "    }\n",
       "\n",
       "    .dataframe tbody tr th {\n",
       "        vertical-align: top;\n",
       "    }\n",
       "\n",
       "    .dataframe thead th {\n",
       "        text-align: right;\n",
       "    }\n",
       "</style>\n",
       "<table border=\"1\" class=\"dataframe\">\n",
       "  <thead>\n",
       "    <tr style=\"text-align: right;\">\n",
       "      <th></th>\n",
       "      <th>DATE</th>\n",
       "      <th>NUMBER OF ELECTRIC VEHICLES</th>\n",
       "      <th>VEHICLE MODEL YEAR</th>\n",
       "      <th>VEHICLE MAKE</th>\n",
       "      <th>LOCATION</th>\n",
       "      <th>VEHICLE MODEL</th>\n",
       "    </tr>\n",
       "  </thead>\n",
       "  <tbody>\n",
       "    <tr>\n",
       "      <th>0</th>\n",
       "      <td>2021-10-01</td>\n",
       "      <td>1</td>\n",
       "      <td>2006</td>\n",
       "      <td>TOYOTA</td>\n",
       "      <td>HALIFAX COUNTY</td>\n",
       "      <td>NaN</td>\n",
       "    </tr>\n",
       "    <tr>\n",
       "      <th>1</th>\n",
       "      <td>2021-10-01</td>\n",
       "      <td>1</td>\n",
       "      <td>2008</td>\n",
       "      <td>TOYOTA</td>\n",
       "      <td>HALIFAX COUNTY</td>\n",
       "      <td>NaN</td>\n",
       "    </tr>\n",
       "    <tr>\n",
       "      <th>2</th>\n",
       "      <td>2021-10-01</td>\n",
       "      <td>1</td>\n",
       "      <td>2009</td>\n",
       "      <td>NISSAN</td>\n",
       "      <td>VICTORIA COUNTY</td>\n",
       "      <td>NaN</td>\n",
       "    </tr>\n",
       "    <tr>\n",
       "      <th>3</th>\n",
       "      <td>2021-10-01</td>\n",
       "      <td>1</td>\n",
       "      <td>2009</td>\n",
       "      <td>TOYOTA</td>\n",
       "      <td>HALIFAX COUNTY</td>\n",
       "      <td>NaN</td>\n",
       "    </tr>\n",
       "    <tr>\n",
       "      <th>4</th>\n",
       "      <td>2021-10-01</td>\n",
       "      <td>1</td>\n",
       "      <td>2011</td>\n",
       "      <td>HYUNDAI</td>\n",
       "      <td>HALIFAX COUNTY</td>\n",
       "      <td>NaN</td>\n",
       "    </tr>\n",
       "  </tbody>\n",
       "</table>\n",
       "</div>"
      ],
      "text/plain": [
       "        DATE  NUMBER OF ELECTRIC VEHICLES  VEHICLE MODEL YEAR VEHICLE MAKE  \\\n",
       "0 2021-10-01                            1                2006       TOYOTA   \n",
       "1 2021-10-01                            1                2008       TOYOTA   \n",
       "2 2021-10-01                            1                2009       NISSAN   \n",
       "3 2021-10-01                            1                2009       TOYOTA   \n",
       "4 2021-10-01                            1                2011      HYUNDAI   \n",
       "\n",
       "          LOCATION VEHICLE MODEL  \n",
       "0   HALIFAX COUNTY           NaN  \n",
       "1   HALIFAX COUNTY           NaN  \n",
       "2  VICTORIA COUNTY           NaN  \n",
       "3   HALIFAX COUNTY           NaN  \n",
       "4   HALIFAX COUNTY           NaN  "
      ]
     },
     "execution_count": 4,
     "metadata": {},
     "output_type": "execute_result"
    }
   ],
   "source": [
    "df[\"DATE\"] = pd.to_datetime(df[\"DATE\"], errors=\"coerce\")\n",
    "df.head()"
   ]
  },
  {
   "cell_type": "code",
   "execution_count": 5,
   "id": "47bb0eea-78a8-4b8b-b60f-37fafc63e7fd",
   "metadata": {},
   "outputs": [
    {
     "name": "stdout",
     "output_type": "stream",
     "text": [
      "<class 'pandas.core.frame.DataFrame'>\n",
      "RangeIndex: 20177 entries, 0 to 20176\n",
      "Data columns (total 6 columns):\n",
      " #   Column                       Non-Null Count  Dtype         \n",
      "---  ------                       --------------  -----         \n",
      " 0   DATE                         20177 non-null  datetime64[ns]\n",
      " 1   NUMBER OF ELECTRIC VEHICLES  20177 non-null  int64         \n",
      " 2   VEHICLE MODEL YEAR           20177 non-null  int64         \n",
      " 3   VEHICLE MAKE                 20177 non-null  object        \n",
      " 4   LOCATION                     20177 non-null  object        \n",
      " 5   VEHICLE MODEL                18208 non-null  object        \n",
      "dtypes: datetime64[ns](1), int64(2), object(3)\n",
      "memory usage: 945.9+ KB\n"
     ]
    }
   ],
   "source": [
    "df.info()\n"
   ]
  },
  {
   "cell_type": "code",
   "execution_count": 6,
   "id": "9e4ab3c4-5b5d-4b29-aee8-3320023b2ab0",
   "metadata": {},
   "outputs": [
    {
     "data": {
      "text/plain": [
       "DATE                              0\n",
       "NUMBER OF ELECTRIC VEHICLES       0\n",
       "VEHICLE MODEL YEAR                0\n",
       "VEHICLE MAKE                      0\n",
       "LOCATION                          0\n",
       "VEHICLE MODEL                  1969\n",
       "dtype: int64"
      ]
     },
     "execution_count": 6,
     "metadata": {},
     "output_type": "execute_result"
    }
   ],
   "source": [
    "df.isnull().sum()\n"
   ]
  },
  {
   "cell_type": "code",
   "execution_count": 7,
   "id": "1434ff26-6e5c-4f94-b9a9-48aeadb4027d",
   "metadata": {},
   "outputs": [
    {
     "data": {
      "text/html": [
       "<div>\n",
       "<style scoped>\n",
       "    .dataframe tbody tr th:only-of-type {\n",
       "        vertical-align: middle;\n",
       "    }\n",
       "\n",
       "    .dataframe tbody tr th {\n",
       "        vertical-align: top;\n",
       "    }\n",
       "\n",
       "    .dataframe thead th {\n",
       "        text-align: right;\n",
       "    }\n",
       "</style>\n",
       "<table border=\"1\" class=\"dataframe\">\n",
       "  <thead>\n",
       "    <tr style=\"text-align: right;\">\n",
       "      <th></th>\n",
       "      <th>DATE</th>\n",
       "      <th>NUMBER OF ELECTRIC VEHICLES</th>\n",
       "      <th>VEHICLE MODEL YEAR</th>\n",
       "      <th>VEHICLE MAKE</th>\n",
       "      <th>LOCATION</th>\n",
       "      <th>VEHICLE MODEL</th>\n",
       "    </tr>\n",
       "  </thead>\n",
       "  <tbody>\n",
       "    <tr>\n",
       "      <th>0</th>\n",
       "      <td>2021-10-01</td>\n",
       "      <td>1</td>\n",
       "      <td>2006</td>\n",
       "      <td>TOYOTA</td>\n",
       "      <td>HALIFAX COUNTY</td>\n",
       "      <td>unknown</td>\n",
       "    </tr>\n",
       "    <tr>\n",
       "      <th>1</th>\n",
       "      <td>2021-10-01</td>\n",
       "      <td>1</td>\n",
       "      <td>2008</td>\n",
       "      <td>TOYOTA</td>\n",
       "      <td>HALIFAX COUNTY</td>\n",
       "      <td>unknown</td>\n",
       "    </tr>\n",
       "    <tr>\n",
       "      <th>2</th>\n",
       "      <td>2021-10-01</td>\n",
       "      <td>1</td>\n",
       "      <td>2009</td>\n",
       "      <td>NISSAN</td>\n",
       "      <td>VICTORIA COUNTY</td>\n",
       "      <td>unknown</td>\n",
       "    </tr>\n",
       "    <tr>\n",
       "      <th>3</th>\n",
       "      <td>2021-10-01</td>\n",
       "      <td>1</td>\n",
       "      <td>2009</td>\n",
       "      <td>TOYOTA</td>\n",
       "      <td>HALIFAX COUNTY</td>\n",
       "      <td>unknown</td>\n",
       "    </tr>\n",
       "    <tr>\n",
       "      <th>4</th>\n",
       "      <td>2021-10-01</td>\n",
       "      <td>1</td>\n",
       "      <td>2011</td>\n",
       "      <td>HYUNDAI</td>\n",
       "      <td>HALIFAX COUNTY</td>\n",
       "      <td>unknown</td>\n",
       "    </tr>\n",
       "  </tbody>\n",
       "</table>\n",
       "</div>"
      ],
      "text/plain": [
       "        DATE  NUMBER OF ELECTRIC VEHICLES  VEHICLE MODEL YEAR VEHICLE MAKE  \\\n",
       "0 2021-10-01                            1                2006       TOYOTA   \n",
       "1 2021-10-01                            1                2008       TOYOTA   \n",
       "2 2021-10-01                            1                2009       NISSAN   \n",
       "3 2021-10-01                            1                2009       TOYOTA   \n",
       "4 2021-10-01                            1                2011      HYUNDAI   \n",
       "\n",
       "          LOCATION VEHICLE MODEL  \n",
       "0   HALIFAX COUNTY       unknown  \n",
       "1   HALIFAX COUNTY       unknown  \n",
       "2  VICTORIA COUNTY       unknown  \n",
       "3   HALIFAX COUNTY       unknown  \n",
       "4   HALIFAX COUNTY       unknown  "
      ]
     },
     "execution_count": 7,
     "metadata": {},
     "output_type": "execute_result"
    }
   ],
   "source": [
    "df[\"VEHICLE MODEL\"] = df[\"VEHICLE MODEL\"].fillna(\"unknown\")\n",
    "df. head()"
   ]
  },
  {
   "cell_type": "code",
   "execution_count": 8,
   "id": "4b4ec2e4-7a49-49ad-965b-aaa96f7473af",
   "metadata": {},
   "outputs": [
    {
     "data": {
      "text/plain": [
       "DATE                           0\n",
       "NUMBER OF ELECTRIC VEHICLES    0\n",
       "VEHICLE MODEL YEAR             0\n",
       "VEHICLE MAKE                   0\n",
       "LOCATION                       0\n",
       "VEHICLE MODEL                  0\n",
       "dtype: int64"
      ]
     },
     "execution_count": 8,
     "metadata": {},
     "output_type": "execute_result"
    }
   ],
   "source": [
    "df.isnull().sum()\n"
   ]
  },
  {
   "cell_type": "code",
   "execution_count": 9,
   "id": "e2abb052-bad5-48e7-9a55-e500449da5a8",
   "metadata": {},
   "outputs": [
    {
     "data": {
      "text/html": [
       "<div>\n",
       "<style scoped>\n",
       "    .dataframe tbody tr th:only-of-type {\n",
       "        vertical-align: middle;\n",
       "    }\n",
       "\n",
       "    .dataframe tbody tr th {\n",
       "        vertical-align: top;\n",
       "    }\n",
       "\n",
       "    .dataframe thead th {\n",
       "        text-align: right;\n",
       "    }\n",
       "</style>\n",
       "<table border=\"1\" class=\"dataframe\">\n",
       "  <thead>\n",
       "    <tr style=\"text-align: right;\">\n",
       "      <th></th>\n",
       "      <th>DATE</th>\n",
       "      <th>NUMBER OF ELECTRIC VEHICLES</th>\n",
       "      <th>VEHICLE MODEL YEAR</th>\n",
       "      <th>VEHICLE MAKE</th>\n",
       "      <th>LOCATION</th>\n",
       "      <th>VEHICLE MODEL</th>\n",
       "    </tr>\n",
       "  </thead>\n",
       "  <tbody>\n",
       "    <tr>\n",
       "      <th>260</th>\n",
       "      <td>2022-01-01</td>\n",
       "      <td>1</td>\n",
       "      <td>2013</td>\n",
       "      <td>NISSAN</td>\n",
       "      <td>ANNAPOLIS COUNTY</td>\n",
       "      <td>unknown</td>\n",
       "    </tr>\n",
       "    <tr>\n",
       "      <th>673</th>\n",
       "      <td>2022-07-01</td>\n",
       "      <td>1</td>\n",
       "      <td>2019</td>\n",
       "      <td>HYUNDAI</td>\n",
       "      <td>COLCHESTER COUNTY</td>\n",
       "      <td>unknown</td>\n",
       "    </tr>\n",
       "    <tr>\n",
       "      <th>1053</th>\n",
       "      <td>2023-01-01</td>\n",
       "      <td>1</td>\n",
       "      <td>2019</td>\n",
       "      <td>CHEVROLET</td>\n",
       "      <td>ANTIGONISH</td>\n",
       "      <td>unknown</td>\n",
       "    </tr>\n",
       "    <tr>\n",
       "      <th>1404</th>\n",
       "      <td>2023-01-01</td>\n",
       "      <td>1</td>\n",
       "      <td>2023</td>\n",
       "      <td>HYUNDAI</td>\n",
       "      <td>ANTIGONISH</td>\n",
       "      <td>unknown</td>\n",
       "    </tr>\n",
       "    <tr>\n",
       "      <th>1584</th>\n",
       "      <td>2023-06-01</td>\n",
       "      <td>1</td>\n",
       "      <td>2019</td>\n",
       "      <td>CHEVROLET</td>\n",
       "      <td>ANTIGONISH</td>\n",
       "      <td>unknown</td>\n",
       "    </tr>\n",
       "    <tr>\n",
       "      <th>...</th>\n",
       "      <td>...</td>\n",
       "      <td>...</td>\n",
       "      <td>...</td>\n",
       "      <td>...</td>\n",
       "      <td>...</td>\n",
       "      <td>...</td>\n",
       "    </tr>\n",
       "    <tr>\n",
       "      <th>20171</th>\n",
       "      <td>2025-07-01</td>\n",
       "      <td>1</td>\n",
       "      <td>2022</td>\n",
       "      <td>TESLA</td>\n",
       "      <td>DIGBY COUNTY</td>\n",
       "      <td>MODEL 3</td>\n",
       "    </tr>\n",
       "    <tr>\n",
       "      <th>20172</th>\n",
       "      <td>2025-07-01</td>\n",
       "      <td>1</td>\n",
       "      <td>2022</td>\n",
       "      <td>TESLA</td>\n",
       "      <td>HALIFAX COUNTY</td>\n",
       "      <td>MODEL 3</td>\n",
       "    </tr>\n",
       "    <tr>\n",
       "      <th>20173</th>\n",
       "      <td>2025-07-01</td>\n",
       "      <td>1</td>\n",
       "      <td>2019</td>\n",
       "      <td>CHEVROLET</td>\n",
       "      <td>HALIFAX COUNTY</td>\n",
       "      <td>BOLT</td>\n",
       "    </tr>\n",
       "    <tr>\n",
       "      <th>20174</th>\n",
       "      <td>2025-07-01</td>\n",
       "      <td>1</td>\n",
       "      <td>2025</td>\n",
       "      <td>KIA</td>\n",
       "      <td>HALIFAX COUNTY</td>\n",
       "      <td>NIRO</td>\n",
       "    </tr>\n",
       "    <tr>\n",
       "      <th>20176</th>\n",
       "      <td>2025-07-01</td>\n",
       "      <td>1</td>\n",
       "      <td>2018</td>\n",
       "      <td>TESLA</td>\n",
       "      <td>HALIFAX COUNTY</td>\n",
       "      <td>MODEL 3</td>\n",
       "    </tr>\n",
       "  </tbody>\n",
       "</table>\n",
       "<p>12276 rows × 6 columns</p>\n",
       "</div>"
      ],
      "text/plain": [
       "            DATE  NUMBER OF ELECTRIC VEHICLES  VEHICLE MODEL YEAR  \\\n",
       "260   2022-01-01                            1                2013   \n",
       "673   2022-07-01                            1                2019   \n",
       "1053  2023-01-01                            1                2019   \n",
       "1404  2023-01-01                            1                2023   \n",
       "1584  2023-06-01                            1                2019   \n",
       "...          ...                          ...                 ...   \n",
       "20171 2025-07-01                            1                2022   \n",
       "20172 2025-07-01                            1                2022   \n",
       "20173 2025-07-01                            1                2019   \n",
       "20174 2025-07-01                            1                2025   \n",
       "20176 2025-07-01                            1                2018   \n",
       "\n",
       "      VEHICLE MAKE           LOCATION VEHICLE MODEL  \n",
       "260         NISSAN   ANNAPOLIS COUNTY       unknown  \n",
       "673        HYUNDAI  COLCHESTER COUNTY       unknown  \n",
       "1053     CHEVROLET         ANTIGONISH       unknown  \n",
       "1404       HYUNDAI         ANTIGONISH       unknown  \n",
       "1584     CHEVROLET         ANTIGONISH       unknown  \n",
       "...            ...                ...           ...  \n",
       "20171        TESLA       DIGBY COUNTY       MODEL 3  \n",
       "20172        TESLA     HALIFAX COUNTY       MODEL 3  \n",
       "20173    CHEVROLET     HALIFAX COUNTY          BOLT  \n",
       "20174          KIA     HALIFAX COUNTY          NIRO  \n",
       "20176        TESLA     HALIFAX COUNTY       MODEL 3  \n",
       "\n",
       "[12276 rows x 6 columns]"
      ]
     },
     "execution_count": 9,
     "metadata": {},
     "output_type": "execute_result"
    }
   ],
   "source": [
    "# df.duplicated.sum()\n",
    "\n",
    "df[df.duplicated()]"
   ]
  },
  {
   "cell_type": "code",
   "execution_count": 10,
   "id": "262cb57a-e2df-4573-b94e-73cfa282ff62",
   "metadata": {},
   "outputs": [],
   "source": [
    "df = df.drop_duplicates()"
   ]
  },
  {
   "cell_type": "code",
   "execution_count": 11,
   "id": "15a167ef-ee56-40df-9989-77babcdd7b56",
   "metadata": {},
   "outputs": [
    {
     "data": {
      "text/html": [
       "<div>\n",
       "<style scoped>\n",
       "    .dataframe tbody tr th:only-of-type {\n",
       "        vertical-align: middle;\n",
       "    }\n",
       "\n",
       "    .dataframe tbody tr th {\n",
       "        vertical-align: top;\n",
       "    }\n",
       "\n",
       "    .dataframe thead th {\n",
       "        text-align: right;\n",
       "    }\n",
       "</style>\n",
       "<table border=\"1\" class=\"dataframe\">\n",
       "  <thead>\n",
       "    <tr style=\"text-align: right;\">\n",
       "      <th></th>\n",
       "      <th>DATE</th>\n",
       "      <th>NUMBER OF ELECTRIC VEHICLES</th>\n",
       "      <th>VEHICLE MODEL YEAR</th>\n",
       "      <th>VEHICLE MAKE</th>\n",
       "      <th>LOCATION</th>\n",
       "      <th>VEHICLE MODEL</th>\n",
       "    </tr>\n",
       "  </thead>\n",
       "  <tbody>\n",
       "  </tbody>\n",
       "</table>\n",
       "</div>"
      ],
      "text/plain": [
       "Empty DataFrame\n",
       "Columns: [DATE, NUMBER OF ELECTRIC VEHICLES, VEHICLE MODEL YEAR, VEHICLE MAKE, LOCATION, VEHICLE MODEL]\n",
       "Index: []"
      ]
     },
     "execution_count": 11,
     "metadata": {},
     "output_type": "execute_result"
    }
   ],
   "source": [
    "df[df.duplicated()].head()\n"
   ]
  },
  {
   "cell_type": "code",
   "execution_count": 12,
   "id": "9929fbf2-7b41-45ef-9f07-bd51737deed8",
   "metadata": {},
   "outputs": [],
   "source": [
    "df.columns = [c.strip().replace(\" \", \"_\").lower() for c in df.columns]"
   ]
  },
  {
   "cell_type": "code",
   "execution_count": 13,
   "id": "783ec1f1-bfe8-477d-9198-357a7bf82bf2",
   "metadata": {},
   "outputs": [
    {
     "data": {
      "text/html": [
       "<div>\n",
       "<style scoped>\n",
       "    .dataframe tbody tr th:only-of-type {\n",
       "        vertical-align: middle;\n",
       "    }\n",
       "\n",
       "    .dataframe tbody tr th {\n",
       "        vertical-align: top;\n",
       "    }\n",
       "\n",
       "    .dataframe thead th {\n",
       "        text-align: right;\n",
       "    }\n",
       "</style>\n",
       "<table border=\"1\" class=\"dataframe\">\n",
       "  <thead>\n",
       "    <tr style=\"text-align: right;\">\n",
       "      <th></th>\n",
       "      <th>date</th>\n",
       "      <th>number_of_electric_vehicles</th>\n",
       "      <th>vehicle_model_year</th>\n",
       "      <th>vehicle_make</th>\n",
       "      <th>location</th>\n",
       "      <th>vehicle_model</th>\n",
       "    </tr>\n",
       "  </thead>\n",
       "  <tbody>\n",
       "    <tr>\n",
       "      <th>0</th>\n",
       "      <td>2021-10-01</td>\n",
       "      <td>1</td>\n",
       "      <td>2006</td>\n",
       "      <td>TOYOTA</td>\n",
       "      <td>HALIFAX COUNTY</td>\n",
       "      <td>unknown</td>\n",
       "    </tr>\n",
       "    <tr>\n",
       "      <th>1</th>\n",
       "      <td>2021-10-01</td>\n",
       "      <td>1</td>\n",
       "      <td>2008</td>\n",
       "      <td>TOYOTA</td>\n",
       "      <td>HALIFAX COUNTY</td>\n",
       "      <td>unknown</td>\n",
       "    </tr>\n",
       "    <tr>\n",
       "      <th>2</th>\n",
       "      <td>2021-10-01</td>\n",
       "      <td>1</td>\n",
       "      <td>2009</td>\n",
       "      <td>NISSAN</td>\n",
       "      <td>VICTORIA COUNTY</td>\n",
       "      <td>unknown</td>\n",
       "    </tr>\n",
       "    <tr>\n",
       "      <th>3</th>\n",
       "      <td>2021-10-01</td>\n",
       "      <td>1</td>\n",
       "      <td>2009</td>\n",
       "      <td>TOYOTA</td>\n",
       "      <td>HALIFAX COUNTY</td>\n",
       "      <td>unknown</td>\n",
       "    </tr>\n",
       "    <tr>\n",
       "      <th>4</th>\n",
       "      <td>2021-10-01</td>\n",
       "      <td>1</td>\n",
       "      <td>2011</td>\n",
       "      <td>HYUNDAI</td>\n",
       "      <td>HALIFAX COUNTY</td>\n",
       "      <td>unknown</td>\n",
       "    </tr>\n",
       "  </tbody>\n",
       "</table>\n",
       "</div>"
      ],
      "text/plain": [
       "        date  number_of_electric_vehicles  vehicle_model_year vehicle_make  \\\n",
       "0 2021-10-01                            1                2006       TOYOTA   \n",
       "1 2021-10-01                            1                2008       TOYOTA   \n",
       "2 2021-10-01                            1                2009       NISSAN   \n",
       "3 2021-10-01                            1                2009       TOYOTA   \n",
       "4 2021-10-01                            1                2011      HYUNDAI   \n",
       "\n",
       "          location vehicle_model  \n",
       "0   HALIFAX COUNTY       unknown  \n",
       "1   HALIFAX COUNTY       unknown  \n",
       "2  VICTORIA COUNTY       unknown  \n",
       "3   HALIFAX COUNTY       unknown  \n",
       "4   HALIFAX COUNTY       unknown  "
      ]
     },
     "execution_count": 13,
     "metadata": {},
     "output_type": "execute_result"
    }
   ],
   "source": [
    "df.head()"
   ]
  },
  {
   "cell_type": "code",
   "execution_count": 14,
   "id": "f61e3f3c-8a9a-4bbc-8d00-303652089a5e",
   "metadata": {},
   "outputs": [
    {
     "data": {
      "text/html": [
       "<div>\n",
       "<style scoped>\n",
       "    .dataframe tbody tr th:only-of-type {\n",
       "        vertical-align: middle;\n",
       "    }\n",
       "\n",
       "    .dataframe tbody tr th {\n",
       "        vertical-align: top;\n",
       "    }\n",
       "\n",
       "    .dataframe thead th {\n",
       "        text-align: right;\n",
       "    }\n",
       "</style>\n",
       "<table border=\"1\" class=\"dataframe\">\n",
       "  <thead>\n",
       "    <tr style=\"text-align: right;\">\n",
       "      <th></th>\n",
       "      <th>date</th>\n",
       "      <th>number_of_electric_vehicles</th>\n",
       "      <th>vehicle_model_year</th>\n",
       "      <th>vehicle_make</th>\n",
       "      <th>location</th>\n",
       "      <th>vehicle_model</th>\n",
       "    </tr>\n",
       "  </thead>\n",
       "  <tbody>\n",
       "    <tr>\n",
       "      <th>count</th>\n",
       "      <td>7901</td>\n",
       "      <td>7901.000000</td>\n",
       "      <td>7901.000000</td>\n",
       "      <td>7901</td>\n",
       "      <td>7901</td>\n",
       "      <td>7901</td>\n",
       "    </tr>\n",
       "    <tr>\n",
       "      <th>unique</th>\n",
       "      <td>NaN</td>\n",
       "      <td>NaN</td>\n",
       "      <td>NaN</td>\n",
       "      <td>75</td>\n",
       "      <td>57</td>\n",
       "      <td>457</td>\n",
       "    </tr>\n",
       "    <tr>\n",
       "      <th>top</th>\n",
       "      <td>NaN</td>\n",
       "      <td>NaN</td>\n",
       "      <td>NaN</td>\n",
       "      <td>TESLA</td>\n",
       "      <td>HALIFAX COUNTY</td>\n",
       "      <td>unknown</td>\n",
       "    </tr>\n",
       "    <tr>\n",
       "      <th>freq</th>\n",
       "      <td>NaN</td>\n",
       "      <td>NaN</td>\n",
       "      <td>NaN</td>\n",
       "      <td>1612</td>\n",
       "      <td>2398</td>\n",
       "      <td>1961</td>\n",
       "    </tr>\n",
       "    <tr>\n",
       "      <th>mean</th>\n",
       "      <td>2024-04-25 01:22:33.702063360</td>\n",
       "      <td>1.642450</td>\n",
       "      <td>2020.905835</td>\n",
       "      <td>NaN</td>\n",
       "      <td>NaN</td>\n",
       "      <td>NaN</td>\n",
       "    </tr>\n",
       "    <tr>\n",
       "      <th>min</th>\n",
       "      <td>2021-10-01 00:00:00</td>\n",
       "      <td>1.000000</td>\n",
       "      <td>1978.000000</td>\n",
       "      <td>NaN</td>\n",
       "      <td>NaN</td>\n",
       "      <td>NaN</td>\n",
       "    </tr>\n",
       "    <tr>\n",
       "      <th>25%</th>\n",
       "      <td>2024-01-22 00:00:00</td>\n",
       "      <td>1.000000</td>\n",
       "      <td>2019.000000</td>\n",
       "      <td>NaN</td>\n",
       "      <td>NaN</td>\n",
       "      <td>NaN</td>\n",
       "    </tr>\n",
       "    <tr>\n",
       "      <th>50%</th>\n",
       "      <td>2024-06-01 00:00:00</td>\n",
       "      <td>1.000000</td>\n",
       "      <td>2022.000000</td>\n",
       "      <td>NaN</td>\n",
       "      <td>NaN</td>\n",
       "      <td>NaN</td>\n",
       "    </tr>\n",
       "    <tr>\n",
       "      <th>75%</th>\n",
       "      <td>2025-01-01 00:00:00</td>\n",
       "      <td>1.000000</td>\n",
       "      <td>2023.000000</td>\n",
       "      <td>NaN</td>\n",
       "      <td>NaN</td>\n",
       "      <td>NaN</td>\n",
       "    </tr>\n",
       "    <tr>\n",
       "      <th>max</th>\n",
       "      <td>2025-07-01 00:00:00</td>\n",
       "      <td>158.000000</td>\n",
       "      <td>2026.000000</td>\n",
       "      <td>NaN</td>\n",
       "      <td>NaN</td>\n",
       "      <td>NaN</td>\n",
       "    </tr>\n",
       "    <tr>\n",
       "      <th>std</th>\n",
       "      <td>NaN</td>\n",
       "      <td>5.158855</td>\n",
       "      <td>3.337208</td>\n",
       "      <td>NaN</td>\n",
       "      <td>NaN</td>\n",
       "      <td>NaN</td>\n",
       "    </tr>\n",
       "  </tbody>\n",
       "</table>\n",
       "</div>"
      ],
      "text/plain": [
       "                                 date  number_of_electric_vehicles  \\\n",
       "count                            7901                  7901.000000   \n",
       "unique                            NaN                          NaN   \n",
       "top                               NaN                          NaN   \n",
       "freq                              NaN                          NaN   \n",
       "mean    2024-04-25 01:22:33.702063360                     1.642450   \n",
       "min               2021-10-01 00:00:00                     1.000000   \n",
       "25%               2024-01-22 00:00:00                     1.000000   \n",
       "50%               2024-06-01 00:00:00                     1.000000   \n",
       "75%               2025-01-01 00:00:00                     1.000000   \n",
       "max               2025-07-01 00:00:00                   158.000000   \n",
       "std                               NaN                     5.158855   \n",
       "\n",
       "        vehicle_model_year vehicle_make        location vehicle_model  \n",
       "count          7901.000000         7901            7901          7901  \n",
       "unique                 NaN           75              57           457  \n",
       "top                    NaN        TESLA  HALIFAX COUNTY       unknown  \n",
       "freq                   NaN         1612            2398          1961  \n",
       "mean           2020.905835          NaN             NaN           NaN  \n",
       "min            1978.000000          NaN             NaN           NaN  \n",
       "25%            2019.000000          NaN             NaN           NaN  \n",
       "50%            2022.000000          NaN             NaN           NaN  \n",
       "75%            2023.000000          NaN             NaN           NaN  \n",
       "max            2026.000000          NaN             NaN           NaN  \n",
       "std               3.337208          NaN             NaN           NaN  "
      ]
     },
     "execution_count": 14,
     "metadata": {},
     "output_type": "execute_result"
    }
   ],
   "source": [
    "df.describe(include=\"all\")"
   ]
  },
  {
   "cell_type": "code",
   "execution_count": 15,
   "id": "4b7cf4af-1640-4fbd-af91-b7591581f210",
   "metadata": {},
   "outputs": [
    {
     "data": {
      "text/plain": [
       "vehicle_make\n",
       "TESLA         1612\n",
       "HYUNDAI       1317\n",
       "FORD          1003\n",
       "CHEVROLET      827\n",
       "KIA            505\n",
       "NISSAN         449\n",
       "TOYOTA         321\n",
       "VOLKSWAGEN     237\n",
       "AUDI           232\n",
       "BMW            162\n",
       "Name: count, dtype: int64"
      ]
     },
     "execution_count": 15,
     "metadata": {},
     "output_type": "execute_result"
    }
   ],
   "source": [
    "df[\"vehicle_make\"].value_counts().head(10)"
   ]
  },
  {
   "cell_type": "code",
   "execution_count": 16,
   "id": "00281e6f-e494-4ce5-8610-9a9128755eeb",
   "metadata": {},
   "outputs": [
    {
     "data": {
      "image/png": "[encoded data removed]",
      "text/plain": [
       "<Figure size 640x480 with 1 Axes>"
      ]
     },
     "metadata": {},
     "output_type": "display_data"
    }
   ],
   "source": [
    "import matplotlib.pyplot as plt\n",
    "\n",
    "# Top 10 vehicle makes\n",
    "df[\"vehicle_make\"].value_counts().head(10).plot(kind=\"bar\")\n",
    "plt.show()"
   ]
  },
  {
   "cell_type": "code",
   "execution_count": 17,
   "id": "6ae8afef-17b3-4f98-890f-d85f5160d707",
   "metadata": {},
   "outputs": [
    {
     "data": {
      "image/png": "[encoded data removed]",
      "text/plain": [
       "<Figure size 640x480 with 1 Axes>"
      ]
     },
     "metadata": {},
     "output_type": "display_data"
    }
   ],
   "source": [
    "# Vehicles over time\n",
    "df.groupby(df[\"date\"].dt.year)[\"number_of_electric_vehicles\"].sum().plot()\n",
    "plt.show()"
   ]
  },
  {
   "cell_type": "code",
   "execution_count": null,
   "id": "72ba48c4-4054-4a46-8c15-ea7f3f12511b",
   "metadata": {},
   "outputs": [],
   "source": [
    "''' Once you’ve:\n",
    "Converted the DATE column → datetime\n",
    "Handled missing values (vehicle_model)\n",
    "Checked & dropped duplicates (if any)\n",
    "Standardized column names\n",
    "\n",
    "Your dataset will be analysis-ready.\n",
    "At that stage, you can move into Exploratory Data Analysis (EDA):\n",
    "Which makes are most popular?\n",
    "How does the number of electric vehicles change over years?\n",
    "Which locations have the highest adoption?\n",
    "Do certain models dominate specific regions?'''"
   ]
  },
  {
   "cell_type": "code",
   "execution_count": 20,
   "id": "8b16a96a-9bb8-4f6d-bee0-5a3e80f048ad",
   "metadata": {},
   "outputs": [
    {
     "data": {
      "text/plain": [
       "(7901, 6)"
      ]
     },
     "execution_count": 20,
     "metadata": {},
     "output_type": "execute_result"
    }
   ],
   "source": [
    "df.shape"
   ]
  },
  {
   "cell_type": "code",
   "execution_count": 21,
   "id": "8915e645-5ee8-47d4-bc7e-c5fc3180839c",
   "metadata": {},
   "outputs": [
    {
     "data": {
      "text/html": [
       "<div>\n",
       "<style scoped>\n",
       "    .dataframe tbody tr th:only-of-type {\n",
       "        vertical-align: middle;\n",
       "    }\n",
       "\n",
       "    .dataframe tbody tr th {\n",
       "        vertical-align: top;\n",
       "    }\n",
       "\n",
       "    .dataframe thead th {\n",
       "        text-align: right;\n",
       "    }\n",
       "</style>\n",
       "<table border=\"1\" class=\"dataframe\">\n",
       "  <thead>\n",
       "    <tr style=\"text-align: right;\">\n",
       "      <th></th>\n",
       "      <th>date</th>\n",
       "      <th>number_of_electric_vehicles</th>\n",
       "      <th>vehicle_model_year</th>\n",
       "      <th>vehicle_make</th>\n",
       "      <th>location</th>\n",
       "      <th>vehicle_model</th>\n",
       "    </tr>\n",
       "  </thead>\n",
       "  <tbody>\n",
       "    <tr>\n",
       "      <th>0</th>\n",
       "      <td>2021-10-01</td>\n",
       "      <td>1</td>\n",
       "      <td>2006</td>\n",
       "      <td>TOYOTA</td>\n",
       "      <td>HALIFAX COUNTY</td>\n",
       "      <td>unknown</td>\n",
       "    </tr>\n",
       "    <tr>\n",
       "      <th>1</th>\n",
       "      <td>2021-10-01</td>\n",
       "      <td>1</td>\n",
       "      <td>2008</td>\n",
       "      <td>TOYOTA</td>\n",
       "      <td>HALIFAX COUNTY</td>\n",
       "      <td>unknown</td>\n",
       "    </tr>\n",
       "    <tr>\n",
       "      <th>2</th>\n",
       "      <td>2021-10-01</td>\n",
       "      <td>1</td>\n",
       "      <td>2009</td>\n",
       "      <td>NISSAN</td>\n",
       "      <td>VICTORIA COUNTY</td>\n",
       "      <td>unknown</td>\n",
       "    </tr>\n",
       "    <tr>\n",
       "      <th>3</th>\n",
       "      <td>2021-10-01</td>\n",
       "      <td>1</td>\n",
       "      <td>2009</td>\n",
       "      <td>TOYOTA</td>\n",
       "      <td>HALIFAX COUNTY</td>\n",
       "      <td>unknown</td>\n",
       "    </tr>\n",
       "    <tr>\n",
       "      <th>4</th>\n",
       "      <td>2021-10-01</td>\n",
       "      <td>1</td>\n",
       "      <td>2011</td>\n",
       "      <td>HYUNDAI</td>\n",
       "      <td>HALIFAX COUNTY</td>\n",
       "      <td>unknown</td>\n",
       "    </tr>\n",
       "  </tbody>\n",
       "</table>\n",
       "</div>"
      ],
      "text/plain": [
       "        date  number_of_electric_vehicles  vehicle_model_year vehicle_make  \\\n",
       "0 2021-10-01                            1                2006       TOYOTA   \n",
       "1 2021-10-01                            1                2008       TOYOTA   \n",
       "2 2021-10-01                            1                2009       NISSAN   \n",
       "3 2021-10-01                            1                2009       TOYOTA   \n",
       "4 2021-10-01                            1                2011      HYUNDAI   \n",
       "\n",
       "          location vehicle_model  \n",
       "0   HALIFAX COUNTY       unknown  \n",
       "1   HALIFAX COUNTY       unknown  \n",
       "2  VICTORIA COUNTY       unknown  \n",
       "3   HALIFAX COUNTY       unknown  \n",
       "4   HALIFAX COUNTY       unknown  "
      ]
     },
     "execution_count": 21,
     "metadata": {},
     "output_type": "execute_result"
    }
   ],
   "source": [
    "df.head()"
   ]
  },
  {
   "cell_type": "code",
   "execution_count": 22,
   "id": "bd177313-5eb3-49b4-a494-ef59a6dfb7f0",
   "metadata": {},
   "outputs": [
    {
     "name": "stdout",
     "output_type": "stream",
     "text": [
      "<class 'pandas.core.frame.DataFrame'>\n",
      "Index: 7901 entries, 0 to 20175\n",
      "Data columns (total 6 columns):\n",
      " #   Column                       Non-Null Count  Dtype         \n",
      "---  ------                       --------------  -----         \n",
      " 0   date                         7901 non-null   datetime64[ns]\n",
      " 1   number_of_electric_vehicles  7901 non-null   int64         \n",
      " 2   vehicle_model_year           7901 non-null   int64         \n",
      " 3   vehicle_make                 7901 non-null   object        \n",
      " 4   location                     7901 non-null   object        \n",
      " 5   vehicle_model                7901 non-null   object        \n",
      "dtypes: datetime64[ns](1), int64(2), object(3)\n",
      "memory usage: 432.1+ KB\n"
     ]
    }
   ],
   "source": [
    "df.info()"
   ]
  },
  {
   "cell_type": "code",
   "execution_count": 23,
   "id": "9a07ecb2-5ac4-4cdb-a71a-7c8f2afde489",
   "metadata": {},
   "outputs": [
    {
     "data": {
      "text/html": [
       "<div>\n",
       "<style scoped>\n",
       "    .dataframe tbody tr th:only-of-type {\n",
       "        vertical-align: middle;\n",
       "    }\n",
       "\n",
       "    .dataframe tbody tr th {\n",
       "        vertical-align: top;\n",
       "    }\n",
       "\n",
       "    .dataframe thead th {\n",
       "        text-align: right;\n",
       "    }\n",
       "</style>\n",
       "<table border=\"1\" class=\"dataframe\">\n",
       "  <thead>\n",
       "    <tr style=\"text-align: right;\">\n",
       "      <th></th>\n",
       "      <th>date</th>\n",
       "      <th>number_of_electric_vehicles</th>\n",
       "      <th>vehicle_model_year</th>\n",
       "      <th>vehicle_make</th>\n",
       "      <th>location</th>\n",
       "      <th>vehicle_model</th>\n",
       "    </tr>\n",
       "  </thead>\n",
       "  <tbody>\n",
       "    <tr>\n",
       "      <th>count</th>\n",
       "      <td>7901</td>\n",
       "      <td>7901.000000</td>\n",
       "      <td>7901.000000</td>\n",
       "      <td>7901</td>\n",
       "      <td>7901</td>\n",
       "      <td>7901</td>\n",
       "    </tr>\n",
       "    <tr>\n",
       "      <th>unique</th>\n",
       "      <td>NaN</td>\n",
       "      <td>NaN</td>\n",
       "      <td>NaN</td>\n",
       "      <td>75</td>\n",
       "      <td>57</td>\n",
       "      <td>457</td>\n",
       "    </tr>\n",
       "    <tr>\n",
       "      <th>top</th>\n",
       "      <td>NaN</td>\n",
       "      <td>NaN</td>\n",
       "      <td>NaN</td>\n",
       "      <td>TESLA</td>\n",
       "      <td>HALIFAX COUNTY</td>\n",
       "      <td>unknown</td>\n",
       "    </tr>\n",
       "    <tr>\n",
       "      <th>freq</th>\n",
       "      <td>NaN</td>\n",
       "      <td>NaN</td>\n",
       "      <td>NaN</td>\n",
       "      <td>1612</td>\n",
       "      <td>2398</td>\n",
       "      <td>1961</td>\n",
       "    </tr>\n",
       "    <tr>\n",
       "      <th>mean</th>\n",
       "      <td>2024-04-25 01:22:33.702063360</td>\n",
       "      <td>1.642450</td>\n",
       "      <td>2020.905835</td>\n",
       "      <td>NaN</td>\n",
       "      <td>NaN</td>\n",
       "      <td>NaN</td>\n",
       "    </tr>\n",
       "    <tr>\n",
       "      <th>min</th>\n",
       "      <td>2021-10-01 00:00:00</td>\n",
       "      <td>1.000000</td>\n",
       "      <td>1978.000000</td>\n",
       "      <td>NaN</td>\n",
       "      <td>NaN</td>\n",
       "      <td>NaN</td>\n",
       "    </tr>\n",
       "    <tr>\n",
       "      <th>25%</th>\n",
       "      <td>2024-01-22 00:00:00</td>\n",
       "      <td>1.000000</td>\n",
       "      <td>2019.000000</td>\n",
       "      <td>NaN</td>\n",
       "      <td>NaN</td>\n",
       "      <td>NaN</td>\n",
       "    </tr>\n",
       "    <tr>\n",
       "      <th>50%</th>\n",
       "      <td>2024-06-01 00:00:00</td>\n",
       "      <td>1.000000</td>\n",
       "      <td>2022.000000</td>\n",
       "      <td>NaN</td>\n",
       "      <td>NaN</td>\n",
       "      <td>NaN</td>\n",
       "    </tr>\n",
       "    <tr>\n",
       "      <th>75%</th>\n",
       "      <td>2025-01-01 00:00:00</td>\n",
       "      <td>1.000000</td>\n",
       "      <td>2023.000000</td>\n",
       "      <td>NaN</td>\n",
       "      <td>NaN</td>\n",
       "      <td>NaN</td>\n",
       "    </tr>\n",
       "    <tr>\n",
       "      <th>max</th>\n",
       "      <td>2025-07-01 00:00:00</td>\n",
       "      <td>158.000000</td>\n",
       "      <td>2026.000000</td>\n",
       "      <td>NaN</td>\n",
       "      <td>NaN</td>\n",
       "      <td>NaN</td>\n",
       "    </tr>\n",
       "    <tr>\n",
       "      <th>std</th>\n",
       "      <td>NaN</td>\n",
       "      <td>5.158855</td>\n",
       "      <td>3.337208</td>\n",
       "      <td>NaN</td>\n",
       "      <td>NaN</td>\n",
       "      <td>NaN</td>\n",
       "    </tr>\n",
       "  </tbody>\n",
       "</table>\n",
       "</div>"
      ],
      "text/plain": [
       "                                 date  number_of_electric_vehicles  \\\n",
       "count                            7901                  7901.000000   \n",
       "unique                            NaN                          NaN   \n",
       "top                               NaN                          NaN   \n",
       "freq                              NaN                          NaN   \n",
       "mean    2024-04-25 01:22:33.702063360                     1.642450   \n",
       "min               2021-10-01 00:00:00                     1.000000   \n",
       "25%               2024-01-22 00:00:00                     1.000000   \n",
       "50%               2024-06-01 00:00:00                     1.000000   \n",
       "75%               2025-01-01 00:00:00                     1.000000   \n",
       "max               2025-07-01 00:00:00                   158.000000   \n",
       "std                               NaN                     5.158855   \n",
       "\n",
       "        vehicle_model_year vehicle_make        location vehicle_model  \n",
       "count          7901.000000         7901            7901          7901  \n",
       "unique                 NaN           75              57           457  \n",
       "top                    NaN        TESLA  HALIFAX COUNTY       unknown  \n",
       "freq                   NaN         1612            2398          1961  \n",
       "mean           2020.905835          NaN             NaN           NaN  \n",
       "min            1978.000000          NaN             NaN           NaN  \n",
       "25%            2019.000000          NaN             NaN           NaN  \n",
       "50%            2022.000000          NaN             NaN           NaN  \n",
       "75%            2023.000000          NaN             NaN           NaN  \n",
       "max            2026.000000          NaN             NaN           NaN  \n",
       "std               3.337208          NaN             NaN           NaN  "
      ]
     },
     "execution_count": 23,
     "metadata": {},
     "output_type": "execute_result"
    }
   ],
   "source": [
    "df.describe(include=\"all\")"
   ]
  },
  {
   "cell_type": "code",
   "execution_count": 24,
   "id": "7ca83e18-fa28-45cd-b25b-6af48496da58",
   "metadata": {},
   "outputs": [
    {
     "data": {
      "image/png": "[encoded data removed]",
      "text/plain": [
       "<Figure size 800x400 with 1 Axes>"
      ]
     },
     "metadata": {},
     "output_type": "display_data"
    }
   ],
   "source": [
    "# Vehicle makes (Top 10)\n",
    "df[\"vehicle_make\"].value_counts().head(10).plot(kind=\"bar\", figsize=(8,4))\n",
    "plt.title(\"top 10 vehicle make\")\n",
    "plt.show()"
   ]
  },
  {
   "cell_type": "code",
   "execution_count": 25,
   "id": "641c6639-adfa-4c3e-99e8-3839e850d2e0",
   "metadata": {},
   "outputs": [
    {
     "data": {
      "image/png": "[encoded data removed]",
      "text/plain": [
       "<Figure size 800x400 with 1 Axes>"
      ]
     },
     "metadata": {},
     "output_type": "display_data"
    }
   ],
   "source": [
    "# Vehicle model years distribution\n",
    "\n",
    "df[\"vehicle_model_year\"].hist(bins=30, figsize=(8,4))\n",
    "plt.title(\"distribution of vehicle model years\")\n",
    "plt.xlabel(\"year\")\n",
    "plt.ylabel(\"count\")\n",
    "plt.show()"
   ]
  },
  {
   "cell_type": "code",
   "execution_count": 26,
   "id": "2342e476-c866-4a9b-ae23-7049d362d7a2",
   "metadata": {},
   "outputs": [
    {
     "data": {
      "image/png": "[encoded data removed]",
      "text/plain": [
       "<Figure size 800x400 with 1 Axes>"
      ]
     },
     "metadata": {},
     "output_type": "display_data"
    }
   ],
   "source": [
    "# Top 10 locations\n",
    "df[\"location\"].value_counts().head().plot(kind=\"bar\", figsize=(8, 4))\n",
    "plt.title(\"Top 10 Locations by Number of EVs\")\n",
    "plt.show()"
   ]
  },
  {
   "cell_type": "code",
   "execution_count": 27,
   "id": "7b532954-9f09-4d31-8b39-d1828c1ceef3",
   "metadata": {},
   "outputs": [
    {
     "data": {
      "image/png": "[encoded data removed]",
      "text/plain": [
       "<Figure size 640x480 with 2 Axes>"
      ]
     },
     "metadata": {},
     "output_type": "display_data"
    }
   ],
   "source": [
    "# Correlation heatmap (numerical columns)\n",
    "import seaborn as sns\n",
    "sns.heatmap(df.corr(numeric_only=True), annot=True, cmap=\"coolwarm\")\n",
    "plt.title(\"correlation heatmap\")\n",
    "plt.show()"
   ]
  },
  {
   "cell_type": "code",
   "execution_count": 28,
   "id": "38b4e6af-18ea-4bae-b8f1-d7dd415ee525",
   "metadata": {},
   "outputs": [
    {
     "data": {
      "image/png": "[encoded data removed]",
      "text/plain": [
       "<Figure size 800x400 with 1 Axes>"
      ]
     },
     "metadata": {},
     "output_type": "display_data"
    }
   ],
   "source": [
    "tesla = df[df[\"vehicle_make\"].str.upper() == \"TESLA\"]\n",
    "tesla.groupby(\"vehicle_model_year\")[\"number_of_electric_vehicles\"].sum().plot(kind=\"bar\", figsize=(8,4))\n",
    "plt.title(\"Tesla EVs by Model Year\")\n",
    "plt.show()"
   ]
  },
  {
   "cell_type": "code",
   "execution_count": 29,
   "id": "8c60cedb-7daa-475d-a57b-4b13337d7169",
   "metadata": {},
   "outputs": [
    {
     "data": {
      "text/plain": [
       "' Once you’ve done the basic EDA (counts, distributions, trends), you can refine the analysis to answer deeper questions.\\nwe can refine the analysis (e.g., forecasting growth, clustering locations, comparing makes over time).'"
      ]
     },
     "execution_count": 29,
     "metadata": {},
     "output_type": "execute_result"
    }
   ],
   "source": [
    "''' Once you’ve done the basic EDA (counts, distributions, trends), you can refine the analysis to answer deeper questions.\n",
    "we can refine the analysis (e.g., forecasting growth, clustering locations, comparing makes over time).'''"
   ]
  },
  {
   "cell_type": "code",
   "execution_count": 31,
   "id": "3a7c0b05-50e2-451e-a96f-94214001086c",
   "metadata": {},
   "outputs": [
    {
     "name": "stdout",
     "output_type": "stream",
     "text": [
      "date\n",
      "2021     830\n",
      "2022    2353\n",
      "2023    3854\n",
      "2024    2490\n",
      "2025    3450\n",
      "Name: number_of_electric_vehicles, dtype: int64\n"
     ]
    }
   ],
   "source": [
    "# Vehicles by year\n",
    "ev_by_year = df.groupby(df[\"date\"].dt.year)[\"number_of_electric_vehicles\"].sum()\n",
    "print(ev_by_year)"
   ]
  },
  {
   "cell_type": "code",
   "execution_count": 43,
   "id": "771983d7-adb2-42af-82a1-1384d2c0f592",
   "metadata": {},
   "outputs": [
    {
     "data": {
      "image/png": "[encoded data removed]",
      "text/plain": [
       "<Figure size 640x480 with 1 Axes>"
      ]
     },
     "metadata": {},
     "output_type": "display_data"
    }
   ],
   "source": [
    "# Simple forecast using linear regression\n",
    "from sklearn.linear_model import LinearRegression\n",
    "import numpy as np\n",
    "\n",
    "X = np.array(ev_by_year.index).reshape(-1,1)\n",
    "Y = ev_by_year.values\n",
    "\n",
    "model = LinearRegression().fit(X, Y)\n",
    "future_years = np.array(range(ev_by_year.index.min(), ev_by_year.index.max() + 6)).reshape(-1, 1)\n",
    "predictions = model.predict(future_years)\n",
    "\n",
    "plt.plot(ev_by_year.index, Y, label=\"Actual\")\n",
    "plt.plot(future_years, predictions, \"--\", label=\"Forecast\")\n",
    "plt.legend()\n",
    "plt.title(\"EV Growth Forecast\")\n",
    "plt.show()\n"
   ]
  },
  {
   "cell_type": "code",
   "execution_count": null,
   "id": "fed53b75-4796-4ced-bff9-825de7325910",
   "metadata": {},
   "outputs": [],
   "source": [
    "!pip3 install scikit-learn"
   ]
  },
  {
   "cell_type": "code",
   "execution_count": 41,
   "id": "cabeb9b7-89dd-4b36-bd7d-a614b2721db2",
   "metadata": {},
   "outputs": [
    {
     "name": "stdout",
     "output_type": "stream",
     "text": [
      "1.7.1\n"
     ]
    }
   ],
   "source": [
    "import sklearn\n",
    "print(sklearn.__version__)"
   ]
  },
  {
   "cell_type": "code",
   "execution_count": 44,
   "id": "22b8fc1f-03bf-4871-b8b1-eb721887f8ba",
   "metadata": {},
   "outputs": [
    {
     "data": {
      "text/html": [
       "<div>\n",
       "<style scoped>\n",
       "    .dataframe tbody tr th:only-of-type {\n",
       "        vertical-align: middle;\n",
       "    }\n",
       "\n",
       "    .dataframe tbody tr th {\n",
       "        vertical-align: top;\n",
       "    }\n",
       "\n",
       "    .dataframe thead th {\n",
       "        text-align: right;\n",
       "    }\n",
       "</style>\n",
       "<table border=\"1\" class=\"dataframe\">\n",
       "  <thead>\n",
       "    <tr style=\"text-align: right;\">\n",
       "      <th></th>\n",
       "      <th>location</th>\n",
       "      <th>number_of_electric_vehicles</th>\n",
       "      <th>cluster</th>\n",
       "    </tr>\n",
       "  </thead>\n",
       "  <tbody>\n",
       "    <tr>\n",
       "      <th>0</th>\n",
       "      <td>AMHERST</td>\n",
       "      <td>16</td>\n",
       "      <td>1</td>\n",
       "    </tr>\n",
       "    <tr>\n",
       "      <th>1</th>\n",
       "      <td>ANNAPOLIS</td>\n",
       "      <td>82</td>\n",
       "      <td>1</td>\n",
       "    </tr>\n",
       "    <tr>\n",
       "      <th>2</th>\n",
       "      <td>ANNAPOLIS COUNTY</td>\n",
       "      <td>328</td>\n",
       "      <td>1</td>\n",
       "    </tr>\n",
       "    <tr>\n",
       "      <th>3</th>\n",
       "      <td>ANNAPOLIS ROYAL</td>\n",
       "      <td>2</td>\n",
       "      <td>1</td>\n",
       "    </tr>\n",
       "    <tr>\n",
       "      <th>4</th>\n",
       "      <td>ANTIGONISH</td>\n",
       "      <td>73</td>\n",
       "      <td>1</td>\n",
       "    </tr>\n",
       "  </tbody>\n",
       "</table>\n",
       "</div>"
      ],
      "text/plain": [
       "           location  number_of_electric_vehicles  cluster\n",
       "0           AMHERST                           16        1\n",
       "1         ANNAPOLIS                           82        1\n",
       "2  ANNAPOLIS COUNTY                          328        1\n",
       "3   ANNAPOLIS ROYAL                            2        1\n",
       "4        ANTIGONISH                           73        1"
      ]
     },
     "execution_count": 44,
     "metadata": {},
     "output_type": "execute_result"
    }
   ],
   "source": [
    "from sklearn.cluster import KMeans\n",
    "\n",
    "# Aggregate EVs by location\n",
    "ev_by_location = df.groupby(\"location\")[\"number_of_electric_vehicles\"].sum().reset_index()\n",
    "\n",
    "# KMeans clustering (e.g., 3 clusters)\n",
    "kmeans = KMeans(n_clusters=3, random_state=42).fit(ev_by_location[[\"number_of_electric_vehicles\"]])\n",
    "ev_by_location[\"cluster\"] = kmeans.labels_\n",
    "\n",
    "ev_by_location.head()\n"
   ]
  },
  {
   "cell_type": "code",
   "execution_count": 45,
   "id": "16f1bc54-ae01-4514-80b3-3e6749743b89",
   "metadata": {},
   "outputs": [
    {
     "data": {
      "image/png": "[encoded data removed]",
      "text/plain": [
       "<Figure size 1000x600 with 1 Axes>"
      ]
     },
     "metadata": {},
     "output_type": "display_data"
    }
   ],
   "source": [
    "ev_by_make_year = df.groupby([df[\"date\"].dt.year, \"vehicle_make\"])[\"number_of_electric_vehicles\"].sum().unstack().fillna(0)\n",
    "\n",
    "# Plot top 3 makes\n",
    "ev_by_make_year[[\"TESLA\", \"NISSAN\", \"TOYOTA\"]].plot(figsize=(10,6))\n",
    "plt.title(\"EV Adoption by Make Over Time\")\n",
    "plt.ylabel(\"Number of EVs\")\n",
    "plt.show()\n"
   ]
  },
  {
   "cell_type": "code",
   "execution_count": null,
   "id": "9fecd2c8-fea8-4f01-86f9-bcfc33827b89",
   "metadata": {},
   "outputs": [],
   "source": []
  },
  {
   "cell_type": "code",
   "execution_count": null,
   "id": "380c79af-f44b-4ad7-97c2-3df721fe803c",
   "metadata": {},
   "outputs": [],
   "source": []
  }
 ],
 "metadata": {
  "kernelspec": {
   "display_name": "Python 3 (ipykernel)",
   "language": "python",
   "name": "python3"
  },
  "language_info": {
   "codemirror_mode": {
    "name": "ipython",
    "version": 3
   },
   "file_extension": ".py",
   "mimetype": "text/x-python",
   "name": "python",
   "nbconvert_exporter": "python",
   "pygments_lexer": "ipython3",
   "version": "3.13.1"
  }
 },
 "nbformat": 4,
 "nbformat_minor": 5
}
